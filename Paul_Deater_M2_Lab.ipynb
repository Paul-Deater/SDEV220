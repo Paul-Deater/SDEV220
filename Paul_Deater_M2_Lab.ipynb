{
 "cells": [
  {
   "cell_type": "code",
   "execution_count": null,
   "id": "692d2537-ca3a-42bc-8019-f74ed21c07ca",
   "metadata": {},
   "outputs": [
    {
     "name": "stdin",
     "output_type": "stream",
     "text": [
      "Please enter the last name or ZZZ to quit:  Smith\n",
      "Please enter the first name:  Jhon\n",
      "Please enter the GPA:  3.96\n"
     ]
    },
    {
     "name": "stdout",
     "output_type": "stream",
     "text": [
      "Jhon Smith has made Dean's List.\n"
     ]
    },
    {
     "name": "stdin",
     "output_type": "stream",
     "text": [
      "Please enter the last name or ZZZ to quit:  Baker\n",
      "Please enter the first name:  Bob\n",
      "Please enter the GPA:  3.06\n"
     ]
    },
    {
     "name": "stdout",
     "output_type": "stream",
     "text": [
      "Bob Baker has not made Dean's List or Honor Roll.\n"
     ]
    },
    {
     "name": "stdin",
     "output_type": "stream",
     "text": [
      "Please enter the last name or ZZZ to quit:  Dean\n",
      "Please enter the first name:  Sarah\n",
      "Please enter the GPA:  3.87\n"
     ]
    },
    {
     "name": "stdout",
     "output_type": "stream",
     "text": [
      "Sarah Dean has made Dean's List.\n"
     ]
    },
    {
     "name": "stdin",
     "output_type": "stream",
     "text": [
      "Please enter the last name or ZZZ to quit:  Hunter\n",
      "Please enter the first name:  Dan\n",
      "Please enter the GPA:  3.5\n"
     ]
    },
    {
     "name": "stdout",
     "output_type": "stream",
     "text": [
      "Dan Hunter has made Dean's List.\n"
     ]
    }
   ],
   "source": [
    "\"\"\"\n",
    "Paul Deater\n",
    "Paul_Deater_M2_Lab\n",
    "# This app checks to see if a student qualifies for any form of academic honor,\n",
    "#   taking in student names and GPAs, checking GPAs based on conditions and printing the results until the user decides to quit the app.\n",
    "\"\"\"\n",
    "\n",
    "first_name = \"\"\n",
    "gpa = 0.0 \n",
    "\n",
    "while True:\n",
    "\n",
    "    last_name = input(\"Please enter the last name or ZZZ to quit: \")\n",
    "\n",
    "    if last_name == \"ZZZ\":\n",
    "        break\n",
    "\n",
    "    first_name = input(\"Please enter the first name: \")\n",
    "    gpa = float(input(\"Please enter the GPA: \"))\n",
    "\n",
    "    # I'm assuming a student can only qualify for one option, so I built the code to reflect that\n",
    "    if gpa >= 3.5:\n",
    "        print(first_name + \" \" +  last_name + \" has made Dean's List.\")\n",
    "\n",
    "    elif gpa >= 3.25:\n",
    "        print(first_name + \" \" +  last_name + \" has made the Honor Roll.\")\n",
    "\n",
    "    else:\n",
    "        print(first_name + \" \" + last_name + \" has not made Dean's List or Honor Roll.\")"
   ]
  },
  {
   "cell_type": "code",
   "execution_count": null,
   "id": "7a16b4ea-4e39-4e7d-99e2-74a6f8963593",
   "metadata": {},
   "outputs": [],
   "source": []
  }
 ],
 "metadata": {
  "kernelspec": {
   "display_name": "Python 3 (ipykernel)",
   "language": "python",
   "name": "python3"
  },
  "language_info": {
   "codemirror_mode": {
    "name": "ipython",
    "version": 3
   },
   "file_extension": ".py",
   "mimetype": "text/x-python",
   "name": "python",
   "nbconvert_exporter": "python",
   "pygments_lexer": "ipython3",
   "version": "3.12.7"
  }
 },
 "nbformat": 4,
 "nbformat_minor": 5
}
