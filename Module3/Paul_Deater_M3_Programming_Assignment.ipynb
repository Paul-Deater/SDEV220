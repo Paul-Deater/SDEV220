{
 "cells": [
  {
   "cell_type": "markdown",
   "id": "497fe9b9-7d0d-4262-84ca-ed9143e2d502",
   "metadata": {},
   "source": [
    "7.4"
   ]
  },
  {
   "cell_type": "code",
   "execution_count": 1,
   "id": "68e4a054-b234-47b8-8f0c-c2b90d4450aa",
   "metadata": {},
   "outputs": [],
   "source": [
    "things = [\"mozzarella\", \"cinderella\", \"salmonella\"]"
   ]
  },
  {
   "cell_type": "markdown",
   "id": "d7ffdae9-51cc-4dd4-bb8f-635425329349",
   "metadata": {},
   "source": [
    "7.5"
   ]
  },
  {
   "cell_type": "code",
   "execution_count": 3,
   "id": "40e3d2d1-4a93-4bd5-baa3-e3a30129d34b",
   "metadata": {},
   "outputs": [
    {
     "name": "stdout",
     "output_type": "stream",
     "text": [
      "['mozzarella', 'Cinderella', 'salmonella']\n"
     ]
    }
   ],
   "source": [
    "things[1] = \"Cinderella\"\n",
    "print(things)"
   ]
  },
  {
   "cell_type": "markdown",
   "id": "dc4d3793-df63-4fe4-b4cf-ee41cedda13f",
   "metadata": {},
   "source": [
    "Yes the element changed."
   ]
  },
  {
   "cell_type": "markdown",
   "id": "0cb1608f-9122-4b23-8814-b2a2440e70a6",
   "metadata": {},
   "source": [
    "7.6"
   ]
  },
  {
   "cell_type": "code",
   "execution_count": 4,
   "id": "6f08d23f-c351-468f-882d-7c37d8cf35a9",
   "metadata": {},
   "outputs": [
    {
     "name": "stdout",
     "output_type": "stream",
     "text": [
      "['MOZZARELLA', 'Cinderella', 'salmonella']\n"
     ]
    }
   ],
   "source": [
    "things[0] = things[0].upper()\n",
    "print(things)"
   ]
  },
  {
   "cell_type": "markdown",
   "id": "dca90732-346d-49c0-a2ce-bce1084c2060",
   "metadata": {},
   "source": [
    "7.7"
   ]
  },
  {
   "cell_type": "code",
   "execution_count": 5,
   "id": "0344fcb3-cf09-4a2f-8f0a-76de9d07e323",
   "metadata": {},
   "outputs": [
    {
     "name": "stdout",
     "output_type": "stream",
     "text": [
      "['MOZZARELLA', 'Cinderella']\n"
     ]
    }
   ],
   "source": [
    "del things[2]\n",
    "print(things)"
   ]
  },
  {
   "cell_type": "markdown",
   "id": "cb0df199-0e7b-4846-8096-a0a38f853e27",
   "metadata": {},
   "source": [
    "9.1"
   ]
  },
  {
   "cell_type": "code",
   "execution_count": 15,
   "id": "960e2e32-624c-4070-8b42-e70b192effd2",
   "metadata": {},
   "outputs": [
    {
     "data": {
      "text/plain": [
       "['Harry', 'Ron', 'Hermione']"
      ]
     },
     "execution_count": 15,
     "metadata": {},
     "output_type": "execute_result"
    }
   ],
   "source": [
    "def good():\n",
    "    good_list = ['Harry', 'Ron', 'Hermione']\n",
    "    return good_list\n",
    "good()"
   ]
  },
  {
   "cell_type": "markdown",
   "id": "4d49533b-ba90-4b59-821e-4692ba80f130",
   "metadata": {},
   "source": [
    "9.2"
   ]
  },
  {
   "cell_type": "code",
   "execution_count": 28,
   "id": "2299d9e1-4ba9-4ee9-b31b-2477abcc9b1a",
   "metadata": {},
   "outputs": [
    {
     "name": "stdout",
     "output_type": "stream",
     "text": [
      "5\n"
     ]
    }
   ],
   "source": [
    "def get_odds():\n",
    "    for number in range(10):\n",
    "        if not number % 2 == 0:\n",
    "            yield number\n",
    "    \n",
    "value_counter = 0\n",
    "\n",
    "odd_numbers = get_odds()\n",
    "\n",
    "for number in odd_numbers:\n",
    "    value_counter += 1\n",
    "    if value_counter == 3:\n",
    "        print(number)"
   ]
  },
  {
   "cell_type": "code",
   "execution_count": null,
   "id": "93b1409f-4826-48e8-aa28-7bdd9f9c204c",
   "metadata": {},
   "outputs": [],
   "source": []
  }
 ],
 "metadata": {
  "kernelspec": {
   "display_name": "Python 3 (ipykernel)",
   "language": "python",
   "name": "python3"
  },
  "language_info": {
   "codemirror_mode": {
    "name": "ipython",
    "version": 3
   },
   "file_extension": ".py",
   "mimetype": "text/x-python",
   "name": "python",
   "nbconvert_exporter": "python",
   "pygments_lexer": "ipython3",
   "version": "3.12.7"
  }
 },
 "nbformat": 4,
 "nbformat_minor": 5
}
