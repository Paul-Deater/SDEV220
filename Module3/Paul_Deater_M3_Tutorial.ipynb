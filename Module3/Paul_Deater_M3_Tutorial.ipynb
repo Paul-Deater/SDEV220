{
 "cells": [
  {
   "cell_type": "code",
   "execution_count": null,
   "id": "22f10289-d999-49ab-bfc0-3159c910a23e",
   "metadata": {},
   "outputs": [],
   "source": [
    "class Solution:\n",
    "    # Function to sort an array of 0s, 1s, and 2s\n",
    "    def sort012(self, arr):\n",
    "        \n",
    "        bottom_of_list = 0\n",
    "        top_of_list = len(arr) - 1\n",
    "        current_value = 0\n",
    "        \n",
    "        while current_value <= top_of_list:\n",
    "            if arr[current_value] == 0:\n",
    "                arr[bottom_of_list], arr[current_value] = arr[current_value], arr[bottom_of_list]\n",
    "                current_value += 1\n",
    "                bottom_of_list += 1\n",
    "            elif arr[current_value] == 1:\n",
    "                current_value += 1\n",
    "            else:\n",
    "                arr[current_value], arr[top_of_list] = arr[top_of_list], arr[current_value]\n",
    "                top_of_list -= 1\n",
    "                \n",
    "        return arr"
   ]
  },
  {
   "cell_type": "code",
   "execution_count": null,
   "id": "9bd666ec-562f-4db7-a244-9cb76a21e4bc",
   "metadata": {},
   "outputs": [],
   "source": []
  },
  {
   "cell_type": "code",
   "execution_count": null,
   "id": "33ba1e8b-78bd-42d4-8f56-d6f5dbe1474c",
   "metadata": {},
   "outputs": [],
   "source": [
    "class Solution:\n",
    "    def binarysearch(self, arr, k):\n",
    "        top = len(arr) - 1\n",
    "        bottom = 0\n",
    "        while bottom <= top:\n",
    "            middle = (top + bottom) // 2\n",
    "            if arr[middle] < k:\n",
    "                bottom = middle + 1\n",
    "\n",
    "            elif arr[middle] > k:\n",
    "                top = middle - 1\n",
    "                \n",
    "            elif arr[middle] == k:\n",
    "                return middle\n",
    "\n",
    "        return -1"
   ]
  }
 ],
 "metadata": {
  "kernelspec": {
   "display_name": "Python 3 (ipykernel)",
   "language": "python",
   "name": "python3"
  },
  "language_info": {
   "codemirror_mode": {
    "name": "ipython",
    "version": 3
   },
   "file_extension": ".py",
   "mimetype": "text/x-python",
   "name": "python",
   "nbconvert_exporter": "python",
   "pygments_lexer": "ipython3",
   "version": "3.12.7"
  }
 },
 "nbformat": 4,
 "nbformat_minor": 5
}
