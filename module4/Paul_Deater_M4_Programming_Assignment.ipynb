{
 "cells": [
  {
   "cell_type": "markdown",
   "id": "01f88707-93cc-4cfe-8ec5-635c8dd785df",
   "metadata": {},
   "source": [
    "11.1"
   ]
  },
  {
   "cell_type": "code",
   "execution_count": 10,
   "id": "b73188fc-051f-4d94-974a-fba11b6d2fb8",
   "metadata": {},
   "outputs": [
    {
     "name": "stdout",
     "output_type": "stream",
     "text": [
      "Open 9-5 daily\n"
     ]
    }
   ],
   "source": [
    "# zoo.py\n",
    "import zoo\n",
    "zoo.hours()"
   ]
  },
  {
   "cell_type": "markdown",
   "id": "88bcaacb-763a-4cba-bd85-f9fabf075bcc",
   "metadata": {},
   "source": [
    "11.2"
   ]
  },
  {
   "cell_type": "code",
   "execution_count": 9,
   "id": "ad3d8f28-8767-4666-b89c-87ad696b7fe5",
   "metadata": {},
   "outputs": [
    {
     "name": "stdout",
     "output_type": "stream",
     "text": [
      "Open 9-5 daily\n"
     ]
    }
   ],
   "source": [
    "import zoo as menagerie\n",
    "menagerie.hours()"
   ]
  },
  {
   "cell_type": "markdown",
   "id": "aa16f105-4b56-41a0-80fb-4222245eee9f",
   "metadata": {},
   "source": [
    "16.8"
   ]
  },
  {
   "cell_type": "code",
   "execution_count": 1,
   "id": "625c611e-7218-4883-816c-388e86462e84",
   "metadata": {},
   "outputs": [
    {
     "name": "stdout",
     "output_type": "stream",
     "text": [
      "Requirement already satisfied: sqlalchemy in c:\\users\\pjdea\\anaconda3\\lib\\site-packages (2.0.34)\n",
      "Requirement already satisfied: typing-extensions>=4.6.0 in c:\\users\\pjdea\\anaconda3\\lib\\site-packages (from sqlalchemy) (4.11.0)\n",
      "Requirement already satisfied: greenlet!=0.4.17 in c:\\users\\pjdea\\anaconda3\\lib\\site-packages (from sqlalchemy) (3.0.1)\n",
      "Note: you may need to restart the kernel to use updated packages.\n"
     ]
    }
   ],
   "source": [
    "pip install sqlalchemy"
   ]
  },
  {
   "cell_type": "code",
   "execution_count": 1,
   "id": "28431d51-afe2-40f3-82e1-592a8da057b6",
   "metadata": {},
   "outputs": [
    {
     "data": {
      "text/plain": [
       "<sqlite3.Cursor at 0x187ec45d740>"
      ]
     },
     "execution_count": 1,
     "metadata": {},
     "output_type": "execute_result"
    }
   ],
   "source": [
    "import sqlite3\n",
    "connect = sqlite3.connect('books.db')\n",
    "curs = connect.cursor()\n",
    "curs.execute('''CREATE TABLE books(title VARCHAR(100) PRIMARY KEY,author VARCHAR(20),year INT)''')"
   ]
  },
  {
   "cell_type": "code",
   "execution_count": 2,
   "id": "04f986c8-ce16-471c-85e9-3eaa9973d6ba",
   "metadata": {},
   "outputs": [
    {
     "name": "stdout",
     "output_type": "stream",
     "text": [
      "1 Alan Garner 1960\n",
      "1 China MiÃ©ville 2000\n",
      "1 Terry Pratchett 2005\n",
      "1 Lisa Lutz 2007\n",
      "1 Terry Pratchett 1992\n"
     ]
    }
   ],
   "source": [
    "import csv\n",
    "with open('books2.csv', 'rt') as file:\n",
    "    data = csv.reader(file)\n",
    "    books2 = [row for row in data]\n",
    "\n",
    "    for book in books2:\n",
    "        if book[0] != \"title\":\n",
    "            title,author,year = book[0],book[1],book[2]\n",
    "            print(len((title,)),author,year)\n",
    "            ins = 'INSERT INTO books (title, author, year) VALUES(?, ?, ?)'\n",
    "            curs.execute(ins, (title, author, year))"
   ]
  },
  {
   "cell_type": "code",
   "execution_count": 3,
   "id": "66ae7c23-39b9-4b88-9156-e16142510f8e",
   "metadata": {},
   "outputs": [
    {
     "name": "stdout",
     "output_type": "stream",
     "text": [
      "[('The Weirdstone of Brisingamen', 'Alan Garner', 1960), ('Perdido Street Station', 'China MiÃ©ville', 2000), ('Thud!', 'Terry Pratchett', 2005), ('The Spellman Files', 'Lisa Lutz', 2007), ('Small Gods', 'Terry Pratchett', 1992)]\n"
     ]
    }
   ],
   "source": [
    "curs.execute('SELECT * FROM books')\n",
    "rows = curs.fetchall()\n",
    "print(rows)"
   ]
  },
  {
   "cell_type": "code",
   "execution_count": 6,
   "id": "f8487bfd-0599-4b6d-b58b-8d6b4ac48e49",
   "metadata": {},
   "outputs": [
    {
     "data": {
      "text/plain": [
       "[('Perdido Street Station',),\n",
       " ('Small Gods',),\n",
       " ('The Spellman Files',),\n",
       " ('The Weirdstone of Brisingamen',),\n",
       " ('Thud!',)]"
      ]
     },
     "execution_count": 6,
     "metadata": {},
     "output_type": "execute_result"
    }
   ],
   "source": [
    "curs.execute('SELECT title from books ORDER BY title')\n",
    "curs.fetchall()"
   ]
  },
  {
   "cell_type": "code",
   "execution_count": null,
   "id": "3b354317-9a15-43ba-9479-b80e344eadb4",
   "metadata": {},
   "outputs": [],
   "source": [
    "import sqlalchemy as sa\n",
    "conn = sa.create_engine('sqlite:///books.db')\n",
    "with conn.connect() as connection:\n",
    "    result = connection.execute(sa.text(\"SELECT title from books ORDER BY title\"))\n",
    "    for row in result:\n",
    "        print(row)"
   ]
  },
  {
   "cell_type": "code",
   "execution_count": null,
   "id": "5e1ce112-fd0e-4040-a32f-5c85cc456621",
   "metadata": {},
   "outputs": [],
   "source": []
  }
 ],
 "metadata": {
  "kernelspec": {
   "display_name": "Python 3 (ipykernel)",
   "language": "python",
   "name": "python3"
  },
  "language_info": {
   "codemirror_mode": {
    "name": "ipython",
    "version": 3
   },
   "file_extension": ".py",
   "mimetype": "text/x-python",
   "name": "python",
   "nbconvert_exporter": "python",
   "pygments_lexer": "ipython3",
   "version": "3.12.7"
  }
 },
 "nbformat": 4,
 "nbformat_minor": 5
}
