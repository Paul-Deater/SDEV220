{
 "cells": [
  {
   "cell_type": "markdown",
   "id": "14bdc0bc-1163-47ab-bc8f-c40c42c9ac52",
   "metadata": {},
   "source": [
    "13.1"
   ]
  },
  {
   "cell_type": "code",
   "execution_count": 9,
   "id": "06920356-655e-42e5-a0fd-d51c177bd3ea",
   "metadata": {},
   "outputs": [],
   "source": [
    "from datetime import date\n",
    "\n",
    "current_date = str(date.today())\n",
    "with open(\"today.txt\", \"w\") as modify_today:\n",
    "    modify_today.write(current_date)"
   ]
  },
  {
   "cell_type": "markdown",
   "id": "ee9e3fe6-318b-4ccc-ab92-709b869e770c",
   "metadata": {},
   "source": [
    "13.2"
   ]
  },
  {
   "cell_type": "code",
   "execution_count": 10,
   "id": "5094e585-f1b1-446d-9051-494e1cc33eac",
   "metadata": {},
   "outputs": [],
   "source": [
    "today_string = open(\"today.txt\").read()"
   ]
  },
  {
   "cell_type": "markdown",
   "id": "eb645630-bf74-4486-880a-c803c8a48675",
   "metadata": {},
   "source": [
    "13.3"
   ]
  },
  {
   "cell_type": "code",
   "execution_count": 11,
   "id": "75ef468a-aa41-4ce2-9df0-d3f4b2112fa3",
   "metadata": {},
   "outputs": [
    {
     "data": {
      "text/plain": [
       "time.struct_time(tm_year=2025, tm_mon=7, tm_mday=18, tm_hour=0, tm_min=0, tm_sec=0, tm_wday=4, tm_yday=199, tm_isdst=-1)"
      ]
     },
     "execution_count": 11,
     "metadata": {},
     "output_type": "execute_result"
    }
   ],
   "source": [
    "import time\n",
    "time_format = \"%Y-%m-%d\"\n",
    "time.strptime(today_string, time_format)"
   ]
  },
  {
   "cell_type": "markdown",
   "id": "42037cd3-1fb0-43bc-9281-7bacb71fb9d4",
   "metadata": {},
   "source": [
    "15.1"
   ]
  },
  {
   "cell_type": "code",
   "execution_count": 18,
   "id": "f842ca80-33e7-4dab-bb2e-9f390f30a34a",
   "metadata": {},
   "outputs": [],
   "source": [
    "import multiprocessing\n",
    "import time\n",
    "import random\n",
    "\n",
    "def get_time():\n",
    "    from datetime import datetime\n",
    "    \n",
    "    interval = 0\n",
    "    \n",
    "    while interval < 3:\n",
    "\n",
    "        # generates a random time between 0 and 1\n",
    "        timeout = (random.randrange(0,10))/10\n",
    "        print('Time is being aquired')\n",
    "\n",
    "        time.sleep(timeout)\n",
    "        print((datetime.now()).time())\n",
    "\n",
    "        interval += 1\n",
    "\n",
    "if __name__ == \"__main__\":\n",
    "    p = multiprocessing.Process(target=get_time)\n",
    "    p.start()"
   ]
  },
  {
   "cell_type": "markdown",
   "id": "ad523b21-12db-45c4-862d-2eec4d026688",
   "metadata": {},
   "source": [
    "^ This works in VSCode and produces this result: \n",
    "PS C:\\Users\\pjdea\\....\\test.py\"\n",
    "Time is being aquired\n",
    "20:10:50.047554\n",
    "Time is being aquired\n",
    "20:10:50.047964\n",
    "Time is being aquired\n",
    "20:10:50.248576"
   ]
  }
 ],
 "metadata": {
  "kernelspec": {
   "display_name": "Python 3 (ipykernel)",
   "language": "python",
   "name": "python3"
  },
  "language_info": {
   "codemirror_mode": {
    "name": "ipython",
    "version": 3
   },
   "file_extension": ".py",
   "mimetype": "text/x-python",
   "name": "python",
   "nbconvert_exporter": "python",
   "pygments_lexer": "ipython3",
   "version": "3.12.7"
  }
 },
 "nbformat": 4,
 "nbformat_minor": 5
}
